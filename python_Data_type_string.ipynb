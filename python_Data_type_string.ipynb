{
 "cells": [
  {
   "cell_type": "markdown",
   "metadata": {},
   "source": [
    "# Python Data Types String"
   ]
  },
  {
   "cell_type": "markdown",
   "metadata": {},
   "source": [
    "1- write a program which takes 2 inputs from the user : weight(kg) and height(meter) and prints the BMI in the output.\n",
    "\n",
    "BMI = weight / (square of height)"
   ]
  },
  {
   "cell_type": "code",
   "execution_count": 15,
   "metadata": {},
   "outputs": [
    {
     "name": "stdout",
     "output_type": "stream",
     "text": [
      "weight :65 \n",
      "Height :1.83\n",
      "Boddy mass index is :19.409358296754156\n",
      "Normal weight\n"
     ]
    }
   ],
   "source": [
    "weight= int(input(\"Enter your weight :\"))\n",
    "height= float(input(\"Enter your height :\"))\n",
    "BMI= weight / (height*height)\n",
    "\n",
    "print(f\"weight :{weight} \\nHeight :{height}\\nBoddy mass index is :{BMI}\")\n",
    "\n",
    "if BMI < 18.5:\n",
    "    print(\"Underweight\")\n",
    "elif 18.5 <= BMI < 25:\n",
    "    print(\"Normal weight\")\n",
    "else:\n",
    "    print(\"Overweight\")"
   ]
  },
  {
   "cell_type": "markdown",
   "metadata": {},
   "source": [
    " 2- write a program which takes the name of the user as input and replace all the occurence of character 'a' in the name to 'b' and print it."
   ]
  },
  {
   "cell_type": "code",
   "execution_count": 22,
   "metadata": {},
   "outputs": [
    {
     "name": "stdout",
     "output_type": "stream",
     "text": [
      "Tejbs\n"
     ]
    }
   ],
   "source": [
    "name= input(\"Enter your Name :\")\n",
    "new_string= name.replace(\"a\",\"b\")\n",
    "print(new_string)"
   ]
  },
  {
   "cell_type": "markdown",
   "metadata": {},
   "source": [
    "3- write a program which takes 2 inputs from user as principle amount (int) and rate of annual interest (float) and print the expected total amount  after  2 years."
   ]
  },
  {
   "cell_type": "code",
   "execution_count": 23,
   "metadata": {},
   "outputs": [
    {
     "name": "stdout",
     "output_type": "stream",
     "text": [
      "The anticipated  total amount after 2 years is: 11700.0\n"
     ]
    }
   ],
   "source": [
    "\n",
    "principal = int(input(\"Enter the principal amount: \"))\n",
    "rate = float(input(\"Enter the annual interest rate (in %): \"))\n",
    "\n",
    "time = 2  # time period in years\n",
    "total_amount = principal * (1 + (rate / 100) * time)\n",
    "\n",
    "print(f\"The anticipated  total amount after 2 years is: {total_amount}\")\n"
   ]
  },
  {
   "cell_type": "markdown",
   "metadata": {},
   "source": [
    "4- write a program which takes city name from user input. irrespective of in which case user enters the city name, print the city name in camel case meaning first letter should be capital and rest in small."
   ]
  },
  {
   "cell_type": "code",
   "execution_count": 25,
   "metadata": {},
   "outputs": [
    {
     "name": "stdout",
     "output_type": "stream",
     "text": [
      "Mysore\n"
     ]
    }
   ],
   "source": [
    "Name_string= input(\"Enter city name :\")\n",
    "new_string=Name_string.capitalize()\n",
    "print(new_string)"
   ]
  },
  {
   "cell_type": "markdown",
   "metadata": {},
   "source": [
    "5- write a program which takes the name of the user as input and print the index of character 'a' in the string. if 'a' is not there then return -1."
   ]
  },
  {
   "cell_type": "code",
   "execution_count": 34,
   "metadata": {},
   "outputs": [
    {
     "data": {
      "text/plain": [
       "3"
      ]
     },
     "execution_count": 34,
     "metadata": {},
     "output_type": "execute_result"
    }
   ],
   "source": [
    "Name = input(\"Enter your name: \")\n",
    "Name.find(\"a\")"
   ]
  },
  {
   "cell_type": "code",
   "execution_count": 33,
   "metadata": {},
   "outputs": [
    {
     "name": "stdout",
     "output_type": "stream",
     "text": [
      "Character 'a' found at index 3\n"
     ]
    }
   ],
   "source": [
    "def find_index_of_a(Name):\n",
    "    for index, char in enumerate(Name):\n",
    "        if char == \"a\":\n",
    "            return f\"Character '{char}' found at index {index}\"\n",
    "    return \"-1\"  \n",
    "\n",
    "\n",
    "Name = input(\"Enter your name: \")\n",
    "\n",
    "\n",
    "result = find_index_of_a(Name)\n",
    "print(result)\n"
   ]
  },
  {
   "cell_type": "markdown",
   "metadata": {},
   "source": [
    "6-  Display the number of letters in the below string\n",
    "my_word = \"antidisestablishmentarianism\""
   ]
  },
  {
   "cell_type": "code",
   "execution_count": 1,
   "metadata": {},
   "outputs": [
    {
     "name": "stdout",
     "output_type": "stream",
     "text": [
      "Number of letters: 28\n"
     ]
    }
   ],
   "source": [
    "my_word = \"antidisestablishmentarianism\"\n",
    "number_of_letters = len(my_word)\n",
    "print(\"Number of letters:\", number_of_letters)"
   ]
  },
  {
   "cell_type": "markdown",
   "metadata": {},
   "source": [
    "7- take 3 inputs from user : first name , last name and age . Display the information in below format\n",
    "exmaple \n",
    "first name : MOhit\n",
    "last name : sharma "
   ]
  },
  {
   "cell_type": "code",
   "execution_count": 5,
   "metadata": {},
   "outputs": [
    {
     "name": "stdout",
     "output_type": "stream",
     "text": [
      "First name : Tejas\n",
      "last name : Gawade\n",
      "age : 24\n"
     ]
    }
   ],
   "source": [
    "first_name= input(\"Enter your first name: \")\n",
    "last_name= input(\"Enter your last name: \")\n",
    "age=int(input(\"Enter your age: \"))\n",
    "print(f\"First name : {first_name.capitalize()}\\nlast name : {last_name.capitalize()}\\nage : {age}\")"
   ]
  },
  {
   "cell_type": "markdown",
   "metadata": {},
   "source": [
    "8-take 3 inputs from user : first name , last name and company name. create the email alias for the user and display it.  Email alias is first 2 letters of first name , last 3 letters of last name and @company.com\n",
    "example \n",
    "first name : MOhit\n",
    "last name : sharma \n",
    "company : infosys\n",
    "\n",
    "Display : morma@infosys.com \n",
    "\n",
    "note full email id should -be in lower case"
   ]
  },
  {
   "cell_type": "code",
   "execution_count": 12,
   "metadata": {},
   "outputs": [
    {
     "name": "stdout",
     "output_type": "stream",
     "text": [
      "morma@infosys.com\n"
     ]
    }
   ],
   "source": [
    "first_name= input(\"Enter first name: \")\n",
    "last_name= input(\"Enter last name: \")\n",
    "company=input(\"Enter company name: \")\n",
    "s1=first_name[:2]\n",
    "s2=last_name[len(last_name)-3:]\n",
    "\n",
    "print(f\"{s1.lower()}{s2.lower()}@{company.lower()}.com\")"
   ]
  }
 ],
 "metadata": {
  "kernelspec": {
   "display_name": "Python 3",
   "language": "python",
   "name": "python3"
  },
  "language_info": {
   "codemirror_mode": {
    "name": "ipython",
    "version": 3
   },
   "file_extension": ".py",
   "mimetype": "text/x-python",
   "name": "python",
   "nbconvert_exporter": "python",
   "pygments_lexer": "ipython3",
   "version": "3.9.7"
  }
 },
 "nbformat": 4,
 "nbformat_minor": 2
}
