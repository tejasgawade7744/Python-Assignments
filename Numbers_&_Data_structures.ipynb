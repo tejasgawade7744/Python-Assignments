{
 "cells": [
  {
   "cell_type": "markdown",
   "metadata": {},
   "source": [
    "1- write a program which takes single input from user contaning first name,last name and age as comma separated value and display then in 3 lines in given format below."
   ]
  },
  {
   "cell_type": "code",
   "execution_count": 37,
   "metadata": {},
   "outputs": [
    {
     "name": "stdout",
     "output_type": "stream",
     "text": [
      "First name is Tejas\n",
      "Last name is Gawade\n",
      "Tejas iS 24 years old\n"
     ]
    }
   ],
   "source": [
    "first_name, last_name, age = input(\"Enter your first name, last name, and age: \").split(\",\")\n",
    "\n",
    "print(f\"First name is {first_name}\\nLast name is {last_name}\\n{first_name} iS {age} years old\")\n"
   ]
  },
  {
   "cell_type": "markdown",
   "metadata": {},
   "source": [
    "2- given 2 list as list1= [1,3,4] and list2 = [2,4,6]\n",
    "\n",
    "combined the 2 list and diplay the same without using extend method\n"
   ]
  },
  {
   "cell_type": "code",
   "execution_count": 11,
   "metadata": {},
   "outputs": [
    {
     "name": "stdout",
     "output_type": "stream",
     "text": [
      "[1, 3, 4, 2, 4, 6]\n"
     ]
    }
   ],
   "source": [
    "import pandas as pd  # type: ignore # Importing pandas for data manipulation\n",
    "\n",
    "\n",
    "list_1 = [1, 3, 4]\n",
    "list_2 = [2, 4, 6]\n",
    "\n",
    "\n",
    "series_1 = pd.Series(list_1)\n",
    "series_2 = pd.Series(list_2)\n",
    "\n",
    "\n",
    "combined_series = pd.concat([series_1, series_2])\n",
    "\n",
    "\n",
    "combined_list = list(combined_series)\n",
    "\n",
    "\n",
    "print(combined_list)\n"
   ]
  },
  {
   "cell_type": "markdown",
   "metadata": {},
   "source": [
    "3- Given a list list1=[1,2,3,4,5,6,7,8]\n",
    "diplay a new list which contains only odd position index values from above list."
   ]
  },
  {
   "cell_type": "code",
   "execution_count": 23,
   "metadata": {},
   "outputs": [
    {
     "name": "stdout",
     "output_type": "stream",
     "text": [
      "[1, 3, 5, 7]\n"
     ]
    }
   ],
   "source": [
    "Num_list= [1,2,3,4,5,6,7,8]\n",
    "even_list=[]\n",
    "\n",
    "for i, j in enumerate(Num_list):\n",
    "    if i % 2 !=0:\n",
    "        even_list.append(i)\n",
    "        \n",
    "print(even_list)"
   ]
  },
  {
   "cell_type": "markdown",
   "metadata": {},
   "source": [
    "4- ipl= ['CSK','MI','KKR','LSG','PBKS']\n",
    "\n",
    "take a ipl team name as input from user and display a list of all elements from that name.\n",
    "\n",
    "example : input : KKR\n",
    "output : ['KKR','LSG','PBKS']\n"
   ]
  },
  {
   "cell_type": "code",
   "execution_count": 40,
   "metadata": {},
   "outputs": [
    {
     "name": "stdout",
     "output_type": "stream",
     "text": [
      "['KKR', 'LSG', 'PBKS']\n"
     ]
    }
   ],
   "source": [
    "user_team=input(\"Enter your choice :\")\n",
    "\n",
    "ipl= ['CSK','MI','KKR','LSG','PBKS']\n",
    "\n",
    "for i in ipl:\n",
    "    if(user_team==i):\n",
    "        print(ipl[ipl.index(i):])"
   ]
  },
  {
   "cell_type": "markdown",
   "metadata": {},
   "source": [
    "5- ipl= ['CSK','MI','KKR','LSG','PBKS']\n",
    "\n",
    "take a ipl team name as input from user and display a list of all elements except input one\n",
    "\n",
    "example : input : KKR\n",
    "output : ['CSK','MI','LSG','PBKS']"
   ]
  },
  {
   "cell_type": "code",
   "execution_count": 48,
   "metadata": {},
   "outputs": [
    {
     "name": "stdout",
     "output_type": "stream",
     "text": [
      "['CSK', 'MI', 'LSG', 'PBKS']\n"
     ]
    }
   ],
   "source": [
    "user_team=input(\"Enter your team :\")\n",
    "\n",
    "ipl= ['CSK','MI','KKR','LSG','PBKS']\n",
    "\n",
    "empty_lis=[]\n",
    "\n",
    "user_team\n",
    "\n",
    "for i in ipl:\n",
    "    if(i!=user_team):\n",
    "        empty_lis.append(i)\n",
    "\n",
    "print(empty_lis)"
   ]
  },
  {
   "cell_type": "markdown",
   "metadata": {},
   "source": [
    "6- ipl= ['CSK','MI','KKR','LSG','PBKS']\n",
    "take a user input contains 2 comma seprated values index,new_team . replace the index element of list with new value and display the same\n",
    "\n",
    "example : input : 2,SRH\n",
    "output : ['CSK','MI','SRH','LSG','PBKS']"
   ]
  },
  {
   "cell_type": "code",
   "execution_count": 7,
   "metadata": {},
   "outputs": [
    {
     "name": "stdout",
     "output_type": "stream",
     "text": [
      "['CSK', 'rth', 'KKR', 'LSG', 'PBKS']\n"
     ]
    }
   ],
   "source": [
    "ipl= ['CSK','MI','KKR','LSG','PBKS']\n",
    "\n",
    "enter_index_no, enter_new_team =input(\"Enter index value, Enter new team\").split(\",\")\n",
    "\n",
    "enter_index_no = int(enter_index_no)\n",
    "\n",
    "ipl[enter_index_no] = enter_new_team\n",
    "\n",
    "print(ipl)\n"
   ]
  },
  {
   "cell_type": "markdown",
   "metadata": {},
   "source": [
    "7- ipl= ['CSK','MI','KKR','LSG','PBKS']\n",
    "take ipl team name as user input. display True if the team exists else display False.\n"
   ]
  },
  {
   "cell_type": "code",
   "execution_count": 60,
   "metadata": {},
   "outputs": [
    {
     "name": "stdout",
     "output_type": "stream",
     "text": [
      "True\n"
     ]
    }
   ],
   "source": [
    "ipl= ['CSK','MI','KKR','LSG','PBKS']\n",
    "\n",
    "N= input(\"Enter your team :\")\n",
    "\n",
    "if N in ipl:\n",
    "    print(\"True\")\n",
    "else:\n",
    "    print(\"False\")"
   ]
  },
  {
   "cell_type": "markdown",
   "metadata": {},
   "source": [
    "8-ipl= ['CSK','MI','KKR','LSG','PBKS']\n",
    "take a user input contains 2 comma seprated values index,new_team . Add the new value at that index in the list. \n",
    "Display the old list , new list,length of original and new list\n",
    "\n",
    "example : input : 2,SRH\n",
    "output : \n",
    "old list : ['CSK','MI','KKR','LSG','PBKS'] and length 5\n",
    "new list : ['CSK','MI','SRH','KKR',LSG','PBKS'] and length 6"
   ]
  },
  {
   "cell_type": "code",
   "execution_count": 70,
   "metadata": {},
   "outputs": [
    {
     "name": "stdout",
     "output_type": "stream",
     "text": [
      "Old lis : ['CSK', 'MI', 'KKR', 'LSG', 'PBKS'] and length 5\n",
      "New list : ['CSK', 'MI', 'SRH', 'KKR', 'LSG', 'PBKS'] and length 6\n"
     ]
    }
   ],
   "source": [
    "ipl= ['CSK','MI','KKR','LSG','PBKS']\n",
    "\n",
    "enter_index,new_team= input(\"Enter index number,Enter New team name \").split(\",\")\n",
    "\n",
    "enter_index=int(enter_index)\n",
    "\n",
    "print(f\"Old lis : {ipl} and length {len(ipl)}\")\n",
    "\n",
    "ipl.insert(enter_index, new_team)\n",
    "\n",
    "print(f\"New list : {ipl} and length {len(ipl)}\") "
   ]
  },
  {
   "cell_type": "code",
   "execution_count": null,
   "metadata": {},
   "outputs": [],
   "source": []
  }
 ],
 "metadata": {
  "kernelspec": {
   "display_name": "Python 3",
   "language": "python",
   "name": "python3"
  },
  "language_info": {
   "codemirror_mode": {
    "name": "ipython",
    "version": 3
   },
   "file_extension": ".py",
   "mimetype": "text/x-python",
   "name": "python",
   "nbconvert_exporter": "python",
   "pygments_lexer": "ipython3",
   "version": "3.9.7"
  }
 },
 "nbformat": 4,
 "nbformat_minor": 2
}
